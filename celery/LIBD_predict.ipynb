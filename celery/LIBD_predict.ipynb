{
 "cells": [
  {
   "cell_type": "code",
   "execution_count": 2,
   "id": "dde6be21",
   "metadata": {},
   "outputs": [],
   "source": [
    "#https://github.com/QihuangZhang/CeLEry/blob/main/tutorial/tutorial.md\n",
    "import os,csv,re\n",
    "import pandas as pd\n",
    "import numpy as np\n",
    "import scanpy as sc\n",
    "import math\n",
    "\n",
    "from skimage import io, color\n",
    "from sklearn.cluster import KMeans\n",
    "from sklearn.preprocessing import normalize\n",
    "from scipy import io\n",
    "from scipy.sparse import issparse\n",
    "import random, torch\n",
    "import warnings\n",
    "warnings.filterwarnings(\"ignore\")\n",
    "import matplotlib.colors as clr\n",
    "import matplotlib.pyplot as plt\n",
    "import pickle\n",
    "\n",
    "#Read original data and save it to h5ad\n",
    "from scanpy import read_10x_h5\n",
    "#import SpaGCN as spg\n",
    "import CeLEry as cel"
   ]
  },
  {
   "cell_type": "code",
   "execution_count": 3,
   "id": "c733fd70",
   "metadata": {},
   "outputs": [],
   "source": [
    "#load dataset\n",
    "sc = sc.read(\"ROSMAP.h5ad\")\n",
    "cel.get_zscore(sc)"
   ]
  },
  {
   "cell_type": "code",
   "execution_count": 7,
   "id": "fee84db4",
   "metadata": {},
   "outputs": [],
   "source": [
    "\n",
    "random.seed(233)\n",
    "torch.manual_seed(233)\n",
    "np.random.seed(233)\n",
    "g = torch.Generator()\n",
    "g.manual_seed(233)\n",
    "\n",
    "pred_layer_151676 = cel.Predict_layer(data_test = sc, class_num = 7, path = \"./\", filename = \"151676_layer_predicted\", predtype = \"deterministic\")\n",
    "np.savetxt('151676_layer_predict.txt', pred_layer, fmt='%d')\n",
    "\n",
    "pred_layer_151675 = cel.Predict_layer(data_test = sc, class_num = 7, path = \"./\", filename = \"151675_layer_predicted\", predtype = \"deterministic\")\n",
    "np.savetxt('151675_layer_predict.txt', pred_layer, fmt='%d')\n",
    "\n",
    "pred_layer_151674 = cel.Predict_layer(data_test = sc, class_num = 7, path = \"./\", filename = \"151674_layer_predicted\", predtype = \"deterministic\")\n",
    "np.savetxt('151674_layer_predict.txt', pred_layer, fmt='%d')\n",
    "\n",
    "pred_layer_151673 = cel.Predict_layer(data_test = sc, class_num = 7, path = \"./\", filename = \"151673_layer_predicted\", predtype = \"deterministic\")\n",
    "np.savetxt('151673_layer_predict.txt', pred_layer, fmt='%d')\n",
    "\n",
    "pred_layer_151507 = cel.Predict_layer(data_test = sc, class_num = 7, path = \"./\", filename = \"151507_layer_predicted\", predtype = \"deterministic\")\n",
    "np.savetxt('151507_layer_predict.txt', pred_layer, fmt='%d')\n",
    "\n",
    "pred_layer_151508 = cel.Predict_layer(data_test = sc, class_num = 7, path = \"./\", filename = \"151508_layer_predicted\", predtype = \"deterministic\")\n",
    "np.savetxt('151508_layer_predict.txt', pred_layer, fmt='%d')\n",
    "\n",
    "pred_layer_151509 = cel.Predict_layer(data_test = sc, class_num = 7, path = \"./\", filename = \"151509_layer_predicted\", predtype = \"deterministic\")\n",
    "np.savetxt('151509_layer_predict.txt', pred_layer, fmt='%d')\n",
    "\n",
    "pred_layer_151510 = cel.Predict_layer(data_test = sc, class_num = 7, path = \"./\", filename = \"151510_layer_predicted\", predtype = \"deterministic\")\n",
    "np.savetxt('151510_layer_predict.txt', pred_layer, fmt='%d')\n",
    "\n",
    "pred_layer_73_76 = cel.Predict_layer(data_test = sc, class_num = 7, path = \"./\", filename = \"73_76_layer_predicted\", predtype = \"deterministic\")\n",
    "np.savetxt('73_76_layer_predict.txt', pred_layer, fmt='%d')\n",
    "\n",
    "pred_layer_07_10 = cel.Predict_layer(data_test = sc, class_num = 7, path = \"./\", filename = \"07_10_layer_predicted\", predtype = \"deterministic\")\n",
    "np.savetxt('07_10_layer_predict.txt', pred_layer, fmt='%d')\n",
    "\n",
    "pred_layer_737409 = cel.Predict_layer(data_test = sc, class_num = 7, path = \"./\", filename = \"737409_layer_predicted\", predtype = \"deterministic\")\n",
    "np.savetxt('737409_layer_predict.txt', pred_layer, fmt='%d')\n",
    "\n",
    "\n"
   ]
  }
 ],
 "metadata": {
  "kernelspec": {
   "display_name": "Python 3 (ipykernel)",
   "language": "python",
   "name": "python3"
  },
  "language_info": {
   "codemirror_mode": {
    "name": "ipython",
    "version": 3
   },
   "file_extension": ".py",
   "mimetype": "text/x-python",
   "name": "python",
   "nbconvert_exporter": "python",
   "pygments_lexer": "ipython3",
   "version": "3.11.5"
  }
 },
 "nbformat": 4,
 "nbformat_minor": 5
}
