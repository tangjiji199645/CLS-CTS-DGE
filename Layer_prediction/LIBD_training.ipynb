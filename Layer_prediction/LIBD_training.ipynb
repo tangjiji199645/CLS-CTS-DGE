{
 "cells": [
  {
   "cell_type": "code",
   "execution_count": null,
   "id": "ad5fe053",
   "metadata": {},
   "outputs": [],
   "source": [
    "#https://github.com/QihuangZhang/CeLEry/blob/main/tutorial/tutorial.md for reference\n",
    "import os,csv,re\n",
    "import pandas as pd\n",
    "import numpy as np\n",
    "import scanpy as sc\n",
    "import math\n",
    "\n",
    "from skimage import io, color\n",
    "from sklearn.cluster import KMeans\n",
    "from sklearn.preprocessing import normalize\n",
    "from scipy import io\n",
    "from scipy.sparse import issparse\n",
    "import random, torch\n",
    "import warnings\n",
    "warnings.filterwarnings(\"ignore\")\n",
    "import matplotlib.colors as clr\n",
    "import matplotlib.pyplot as plt\n",
    "import pickle\n",
    "\n",
    "#Read original data and save it to h5ad\n",
    "from scanpy import read_10x_h5\n",
    "#import SpaGCN as spg\n",
    "import CeLEry as cel"
   ]
  },
  {
   "cell_type": "code",
   "execution_count": null,
   "id": "261376fe",
   "metadata": {},
   "outputs": [],
   "source": [
    "dataSection_151673 = sc.read(\"data_151673.h5ad\")\n",
    "dataSection_151674 = sc.read(\"data_151674.h5ad\")\n",
    "dataSection_151675 = sc.read(\"data_151675.h5ad\")\n",
    "dataSection_151676 = sc.read(\"data_151676.h5ad\")\n",
    "\n",
    "dataSection_151509 = sc.read(\"data_151509.h5ad\")\n",
    "dataSection_151510 = sc.read(\"data_151510.h5ad\")\n",
    "dataSection_151507 = sc.read(\"data_151507.h5ad\")\n",
    "dataSection_151508 = sc.read(\"data_151508.h5ad\")"
   ]
  },
  {
   "cell_type": "code",
   "execution_count": null,
   "id": "451caac3",
   "metadata": {},
   "outputs": [],
   "source": [
    "def train_layermodel (studyID):\n",
    "    dataSection1 = sc.read(f\"data_{studyID}.h5ad\")\n",
    "    cel.get_zscore(dataSection1)\n",
    "\n",
    "    dataSection1_select = dataSection1[:,common_gene.genename]\n",
    "\n",
    "    layer_count =  dataSection1_select.obs[\"Layer\"].value_counts().sort_index()\n",
    "    layer_weight = layer_count[7]/layer_count[0:7]\n",
    "    \n",
    "    model_train = cel.Fit_layer (data_train = dataSection1_select, layer_weights = layer_weight, layerkey = \"Layer\", \n",
    "                             hidden_dims = [30, 25, 15], num_epochs_max = 500, path = \"./\", filename = \"{studyID}_layer_predict\".format(studyID = studyID))\n",
    "    \n",
    "    "
   ]
  },
  {
   "cell_type": "code",
   "execution_count": null,
   "id": "0a0be5b6",
   "metadata": {},
   "outputs": [],
   "source": [
    "train_layermodel(151673)"
   ]
  },
  {
   "cell_type": "code",
   "execution_count": null,
   "id": "5846f4dd",
   "metadata": {},
   "outputs": [],
   "source": [
    "train_layermodel(151674)"
   ]
  },
  {
   "cell_type": "code",
   "execution_count": null,
   "id": "21e64c30",
   "metadata": {},
   "outputs": [],
   "source": [
    "train_layermodel(151675)"
   ]
  },
  {
   "cell_type": "code",
   "execution_count": null,
   "id": "3a419fa3",
   "metadata": {},
   "outputs": [],
   "source": [
    "train_layermodel(151676)"
   ]
  },
  {
   "cell_type": "code",
   "execution_count": null,
   "id": "4bd74241",
   "metadata": {},
   "outputs": [],
   "source": [
    "train_layermodel(151507)"
   ]
  },
  {
   "cell_type": "code",
   "execution_count": null,
   "id": "0f61b545",
   "metadata": {},
   "outputs": [],
   "source": [
    "train_layermodel(151508)"
   ]
  },
  {
   "cell_type": "code",
   "execution_count": null,
   "id": "c8cbfbeb",
   "metadata": {},
   "outputs": [],
   "source": [
    "train_layermodel(151509)"
   ]
  },
  {
   "cell_type": "code",
   "execution_count": null,
   "id": "c2c84eca",
   "metadata": {},
   "outputs": [],
   "source": [
    "train_layermodel(151510)"
   ]
  },
  {
   "cell_type": "code",
   "execution_count": null,
   "id": "2b3a164d",
   "metadata": {},
   "outputs": [],
   "source": [
    "#train multiple samples 737409\n",
    "dataSectionM_737409 = dataSection_151673.concatenate(dataSection_151674,dataSection_151609)\n",
    "cel.get_zscore(dataSectionM_737409)"
   ]
  },
  {
   "cell_type": "code",
   "execution_count": null,
   "id": "7e6d6ac7",
   "metadata": {},
   "outputs": [],
   "source": [
    "layer_count =  dataSectionM_737409.obs[\"Layer\"].value_counts().sort_index()\n",
    "layer_weight = layer_count[7]/layer_count[0:7]"
   ]
  },
  {
   "cell_type": "code",
   "execution_count": null,
   "id": "f0587d41",
   "metadata": {},
   "outputs": [],
   "source": [
    "model_train = cel.Fit_layer (data_train = dataSectionM_737409, layer_weights = layer_weight, layerkey = \"Layer\", \n",
    "                             hidden_dims = [30, 25, 15], num_epochs_max = 500, path = \"./\", filename = \"737409_layer_predicted\")\n",
    "    \n",
    "    "
   ]
  }
 ],
 "metadata": {
  "kernelspec": {
   "display_name": "Python 3 (ipykernel)",
   "language": "python",
   "name": "python3"
  },
  "language_info": {
   "codemirror_mode": {
    "name": "ipython",
    "version": 3
   },
   "file_extension": ".py",
   "mimetype": "text/x-python",
   "name": "python",
   "nbconvert_exporter": "python",
   "pygments_lexer": "ipython3",
   "version": "3.11.5"
  }
 },
 "nbformat": 4,
 "nbformat_minor": 5
}
